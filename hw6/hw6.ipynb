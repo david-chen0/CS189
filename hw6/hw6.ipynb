{
 "cells": [
  {
   "cell_type": "markdown",
   "id": "eb201eb2",
   "metadata": {},
   "source": [
    "# CS189 Homework 6"
   ]
  },
  {
   "cell_type": "markdown",
   "id": "2dde2f3e",
   "metadata": {},
   "source": [
    "### Imports"
   ]
  },
  {
   "cell_type": "code",
   "execution_count": 1,
   "id": "5576a644",
   "metadata": {},
   "outputs": [],
   "source": [
    "import numpy as np\n",
    "import matplotlib.pyplot as plt\n",
    "import scipy\n",
    "from scipy import io\n",
    "from scipy import stats\n",
    "import random"
   ]
  },
  {
   "cell_type": "markdown",
   "id": "1b5db305",
   "metadata": {},
   "source": [
    "## Question 5: Two-Layer Fully Connected Networks"
   ]
  },
  {
   "cell_type": "code",
   "execution_count": null,
   "id": "81664541",
   "metadata": {},
   "outputs": [],
   "source": []
  }
 ],
 "metadata": {
  "kernelspec": {
   "display_name": "Python 3 (ipykernel)",
   "language": "python",
   "name": "python3"
  },
  "language_info": {
   "codemirror_mode": {
    "name": "ipython",
    "version": 3
   },
   "file_extension": ".py",
   "mimetype": "text/x-python",
   "name": "python",
   "nbconvert_exporter": "python",
   "pygments_lexer": "ipython3",
   "version": "3.10.4"
  }
 },
 "nbformat": 4,
 "nbformat_minor": 5
}

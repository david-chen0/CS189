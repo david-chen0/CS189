{
 "cells": [
  {
   "cell_type": "markdown",
   "id": "88885808",
   "metadata": {},
   "source": [
    "# CS189 Homework 1"
   ]
  },
  {
   "cell_type": "code",
   "execution_count": 1,
   "id": "0109d329",
   "metadata": {},
   "outputs": [],
   "source": [
    "# Imports\n",
    "import numpy as np\n",
    "import matplotlib.pyplot as plt\n",
    "from sklearn import svm\n",
    "from scipy import io\n",
    "\n",
    "import random"
   ]
  },
  {
   "cell_type": "markdown",
   "id": "da1cddd7",
   "metadata": {},
   "source": [
    "## Question 1: Data Partitioning"
   ]
  },
  {
   "cell_type": "code",
   "execution_count": 2,
   "id": "83dec86f",
   "metadata": {},
   "outputs": [],
   "source": [
    "# Setup\n",
    "def getDataset(name, size):\n",
    "    data = io.loadmat(\"data/%s_data.mat\" % name)\n",
    "    trainingData = data[\"training_data\"]\n",
    "    trainingLabels = data[\"training_labels\"]\n",
    "\n",
    "    indices = np.arange(trainingData.shape[0])\n",
    "    np.random.shuffle(indices)\n",
    "    shuffledData = trainingData[indices]\n",
    "    shuffledLabels = trainingLabels[indices]\n",
    "\n",
    "    dataset = dict()\n",
    "    dataset[\"validation_data\"] = shuffledData[:size]\n",
    "    dataset[\"validation_labels\"] = shuffledLabels[:size]\n",
    "    dataset[\"training_data\"] = shuffledData[size + 1:]\n",
    "    dataset[\"training_labels\"] = shuffledLabels[size + 1:]\n",
    "    return dataset"
   ]
  },
  {
   "cell_type": "code",
   "execution_count": 3,
   "id": "75bac8aa",
   "metadata": {},
   "outputs": [],
   "source": [
    "# Part A\n",
    "MNISTDataset = getDataset(\"mnist\", 10000)"
   ]
  },
  {
   "cell_type": "code",
   "execution_count": 4,
   "id": "1382d1cd",
   "metadata": {},
   "outputs": [],
   "source": [
    "# Part B\n",
    "spamTrainingData = io.loadmat(\"data/spam_data.mat\")[\"training_data\"]\n",
    "spamSize = spamTrainingData.shape[0] // 5\n",
    "spamDataset = getDataset(\"spam\", spamSize)"
   ]
  },
  {
   "cell_type": "code",
   "execution_count": 5,
   "id": "34a3e903",
   "metadata": {},
   "outputs": [],
   "source": [
    "# Part C\n",
    "CIFAR10Dataset = getDataset(\"cifar10\", 5000)"
   ]
  },
  {
   "cell_type": "markdown",
   "id": "41f038dd",
   "metadata": {},
   "source": [
    "## Question 2: Support Vector Machines: Coding"
   ]
  },
  {
   "cell_type": "code",
   "execution_count": 6,
   "id": "27437331",
   "metadata": {},
   "outputs": [],
   "source": [
    "# Setup\n",
    "from sklearn.metrics import accuracy_score\n",
    "\n",
    "def train(dataset, size, cValue=1.0):\n",
    "    trainingData = dataset[\"training_data\"]\n",
    "    trainingLabels = dataset[\"training_labels\"]\n",
    "    validationData = dataset[\"validation_data\"]\n",
    "    validationLabels = dataset[\"validation_labels\"]\n",
    "\n",
    "    indices = np.arange(trainingData.shape[0])\n",
    "    np.random.shuffle(indices)\n",
    "    \n",
    "    newTrainingData = trainingData[indices]\n",
    "    newTrainingData = newTrainingData[:size]\n",
    "    newTrainingLabels = trainingLabels[indices]\n",
    "    newTrainingLabels = newTrainingLabels[:size]\n",
    "\n",
    "    svc = svm.LinearSVC(C=cValue, max_iter=2000)\n",
    "    svc.fit(X=newTrainingData, y=newTrainingLabels.ravel())\n",
    "\n",
    "    trainingAccuracy = accuracy_score(trainingLabels, svc.predict(trainingData))\n",
    "    validationAccuracy = accuracy_score(validationLabels, svc.predict(validationData))\n",
    "    return [trainingAccuracy, validationAccuracy]\n",
    "\n",
    "def normalize(data):\n",
    "    mean = np.mean(data)\n",
    "    variance = np.var(data)\n",
    "    data = (data - mean) / variance\n",
    "    return data"
   ]
  },
  {
   "cell_type": "code",
   "execution_count": 7,
   "id": "97d3a0f2",
   "metadata": {},
   "outputs": [
    {
     "name": "stdout",
     "output_type": "stream",
     "text": [
      "Training 100 samples of MNIST Data\n",
      "Training 200 samples of MNIST Data\n",
      "Training 500 samples of MNIST Data\n",
      "Training 1000 samples of MNIST Data\n",
      "Training 2000 samples of MNIST Data\n",
      "Training 5000 samples of MNIST Data\n",
      "Training 10000 samples of MNIST Data\n"
     ]
    },
    {
     "data": {
      "image/png": "[encoded data removed]",
      "text/plain": [
       "<Figure size 432x288 with 1 Axes>"
      ]
     },
     "metadata": {
      "needs_background": "light"
     },
     "output_type": "display_data"
    }
   ],
   "source": [
    "# Part A\n",
    "# Normalization for convergence\n",
    "MNISTDataset[\"training_data\"] = normalize(MNISTDataset[\"training_data\"])\n",
    "MNISTDataset[\"validation_data\"] =  normalize(MNISTDataset[\"validation_data\"])\n",
    "\n",
    "# Training the model\n",
    "sizes = [100, 200, 500, 1000, 2000, 5000, 10000]\n",
    "trainingAccuracies = []\n",
    "validationAccuracies = []\n",
    "for size in sizes:\n",
    "    print(\"Training {} samples of MNIST Data\".format(size))\n",
    "    results = train(MNISTDataset, size)\n",
    "    trainingAccuracies.append(results[0])\n",
    "    validationAccuracies.append(results[1])\n",
    "    \n",
    "# Plotting the results\n",
    "plt.plot(sizes, trainingAccuracies, label=\"Training Data\")\n",
    "plt.plot(sizes, validationAccuracies, label=\"Validation Data\")\n",
    "plt.xlabel(\"Dataset Size\")\n",
    "plt.ylabel(\"Accuracy Rate\")\n",
    "plt.title(\"MNIST Dataset\")\n",
    "plt.legend()\n",
    "plt.show()"
   ]
  },
  {
   "cell_type": "code",
   "execution_count": 8,
   "id": "acf49066",
   "metadata": {},
   "outputs": [
    {
     "name": "stdout",
     "output_type": "stream",
     "text": [
      "Training 100 samples of Spam Data\n",
      "Training 200 samples of Spam Data\n",
      "Training 500 samples of Spam Data\n",
      "Training 1000 samples of Spam Data\n",
      "Training 2000 samples of Spam Data\n"
     ]
    },
    {
     "name": "stderr",
     "output_type": "stream",
     "text": [
      "/Users/DavidChen/Desktop/compsci/anaconda3/envs/CS189/lib/python3.6/site-packages/sklearn/svm/_base.py:986: ConvergenceWarning: Liblinear failed to converge, increase the number of iterations.\n",
      "  \"the number of iterations.\", ConvergenceWarning)\n",
      "/Users/DavidChen/Desktop/compsci/anaconda3/envs/CS189/lib/python3.6/site-packages/sklearn/svm/_base.py:986: ConvergenceWarning: Liblinear failed to converge, increase the number of iterations.\n",
      "  \"the number of iterations.\", ConvergenceWarning)\n"
     ]
    },
    {
     "name": "stdout",
     "output_type": "stream",
     "text": [
      "Training 4137 samples of Spam Data\n"
     ]
    },
    {
     "name": "stderr",
     "output_type": "stream",
     "text": [
      "/Users/DavidChen/Desktop/compsci/anaconda3/envs/CS189/lib/python3.6/site-packages/sklearn/svm/_base.py:986: ConvergenceWarning: Liblinear failed to converge, increase the number of iterations.\n",
      "  \"the number of iterations.\", ConvergenceWarning)\n"
     ]
    },
    {
     "data": {
      "image/png": "[encoded data removed]",
      "text/plain": [
       "<Figure size 432x288 with 1 Axes>"
      ]
     },
     "metadata": {
      "needs_background": "light"
     },
     "output_type": "display_data"
    }
   ],
   "source": [
    "# Part B\n",
    "# Normalization for convergence\n",
    "spamDataset[\"training_data\"] = normalize(spamDataset[\"training_data\"])\n",
    "spamDataset[\"validation_data\"] =  normalize(spamDataset[\"validation_data\"])\n",
    "\n",
    "# Training the model\n",
    "sizes = [100, 200, 500, 1000, 2000, spamDataset[\"training_data\"].shape[0]]\n",
    "trainingAccuracies = []\n",
    "validationAccuracies = []\n",
    "for size in sizes:\n",
    "    print(\"Training {} samples of Spam Data\".format(size))\n",
    "    results = train(spamDataset, size)\n",
    "    trainingAccuracies.append(results[0])\n",
    "    validationAccuracies.append(results[1])\n",
    "    \n",
    "# Plotting the results\n",
    "plt.plot(sizes, trainingAccuracies, label=\"Training Data\")\n",
    "plt.plot(sizes, validationAccuracies, label=\"Validation Data\")\n",
    "plt.xlabel(\"Dataset Size\")\n",
    "plt.ylabel(\"Accuracy Rate\")\n",
    "plt.title(\"Spam Dataset\")\n",
    "plt.legend()\n",
    "plt.show()"
   ]
  },
  {
   "cell_type": "code",
   "execution_count": 9,
   "id": "160cf918",
   "metadata": {},
   "outputs": [
    {
     "name": "stdout",
     "output_type": "stream",
     "text": [
      "Training 100 samples of CIFAR10 Data\n",
      "Training 200 samples of CIFAR10 Data\n",
      "Training 500 samples of CIFAR10 Data\n",
      "Training 1000 samples of CIFAR10 Data\n",
      "Training 2000 samples of CIFAR10 Data\n",
      "Training 5000 samples of CIFAR10 Data\n"
     ]
    },
    {
     "data": {
      "image/png": "[encoded data removed]",
      "text/plain": [
       "<Figure size 432x288 with 1 Axes>"
      ]
     },
     "metadata": {
      "needs_background": "light"
     },
     "output_type": "display_data"
    }
   ],
   "source": [
    "# Part C\n",
    "# Normalization for convergence\n",
    "CIFAR10Dataset[\"training_data\"] = normalize(CIFAR10Dataset[\"training_data\"])\n",
    "CIFAR10Dataset[\"validation_data\"] =  normalize(CIFAR10Dataset[\"validation_data\"])\n",
    "\n",
    "# Training the model\n",
    "sizes = [100, 200, 500, 1000, 2000, 5000]\n",
    "trainingAccuracies = []\n",
    "validationAccuracies = []\n",
    "for size in sizes:\n",
    "    print(\"Training {} samples of CIFAR10 Data\".format(size))\n",
    "    results = train(CIFAR10Dataset, size)\n",
    "    trainingAccuracies.append(results[0])\n",
    "    validationAccuracies.append(results[1])\n",
    "    \n",
    "# Plotting the results\n",
    "plt.plot(sizes, trainingAccuracies, label=\"Training Data\")\n",
    "plt.plot(sizes, validationAccuracies, label=\"Validation Data\")\n",
    "plt.xlabel(\"Dataset Size\")\n",
    "plt.ylabel(\"Accuracy Rate\")\n",
    "plt.title(\"CIFAR10 Dataset\")\n",
    "plt.legend()\n",
    "plt.show()"
   ]
  },
  {
   "cell_type": "markdown",
   "id": "3bdf6a6e",
   "metadata": {},
   "source": [
    "## Question 3: Hyperparameter Tuning"
   ]
  },
  {
   "cell_type": "code",
   "execution_count": 10,
   "id": "b19179d9",
   "metadata": {},
   "outputs": [
    {
     "name": "stdout",
     "output_type": "stream",
     "text": [
      "C Value: 0.01 with training accuracy 0.7838756775135503 and validation accuracy 0.7877.\n",
      "C Value: 0.05 with training accuracy 0.8453969079381588 and validation accuracy 0.8482.\n",
      "C Value: 0.1 with training accuracy 0.8602772055441109 and validation accuracy 0.8613.\n",
      "C Value: 0.2 with training accuracy 0.876777535550711 and validation accuracy 0.8794.\n",
      "C Value: 0.5 with training accuracy 0.8882377647552951 and validation accuracy 0.889.\n",
      "C Value: 0.8 with training accuracy 0.8934378687573752 and validation accuracy 0.8927.\n",
      "C Value: 1.0 with training accuracy 0.8954779095581912 and validation accuracy 0.8963.\n",
      "C Value: 2.0 with training accuracy 0.9008780175603512 and validation accuracy 0.8985.\n",
      "C Value: 5.0 with training accuracy 0.9072781455629113 and validation accuracy 0.9049.\n",
      "C Value: 10.0 with training accuracy 0.9080381607632153 and validation accuracy 0.9051.\n",
      "The best value for C is 10.0 with an average accuracy of 0.9065690803816077.\n"
     ]
    }
   ],
   "source": [
    "# Tried 10e-5 through 10e-3 and it sucked, same goes for 10e2 through 10e4\n",
    "CValues = [0.01, 0.05, 0.1, 0.2, 0.5, 0.8, 1.0, 2.0, 5.0, 10.0]\n",
    "CValueResults = []\n",
    "trainingSize = 10000\n",
    "for CValue in CValues:\n",
    "    accuracies = train(MNISTDataset, trainingSize, CValue)\n",
    "    CValueResults.append(0.5 * (accuracies[0] + accuracies[1])) # Would be better to use weighted avg\n",
    "    print(\"C Value: {} with training accuracy {} and validation accuracy {}.\"\\\n",
    "          .format(CValue, accuracies[0], accuracies[1]))\n",
    "maxAverageAccuracy = max(CValueResults)\n",
    "print(\"The best value for C is {} with an average accuracy of {}.\"\\\n",
    "      .format(CValues[CValueResults.index(maxAverageAccuracy)], maxAverageAccuracy))"
   ]
  },
  {
   "cell_type": "markdown",
   "id": "c2ebd187",
   "metadata": {},
   "source": [
    "## Question 4: K-Fold Cross-Validation"
   ]
  },
  {
   "cell_type": "code",
   "execution_count": 11,
   "id": "94b84be9",
   "metadata": {},
   "outputs": [],
   "source": [
    "# Setup\n",
    "def KFoldCrossVal(dataset, k, cValue=1.0):\n",
    "    trainingData = dataset[\"training_data\"]\n",
    "    trainingLabels = dataset[\"training_labels\"]\n",
    "    \n",
    "    dataSize = trainingData.shape[0]\n",
    "    indices = np.arange(dataSize)\n",
    "    np.random.shuffle(indices)\n",
    "    shuffledData = trainingData[indices]\n",
    "    shuffledLabels = trainingLabels[indices]\n",
    "    \n",
    "    foldSize = dataSize / k\n",
    "    svc = svm.LinearSVC(C=cValue, max_iter=10000)\n",
    "    trainingAccuracy = 0 # Average of k iterations\n",
    "    validationAccuracy = 0 # Average of k iterations\n",
    "    for i in range(k):\n",
    "        start = int(foldSize * i)\n",
    "        end = int(foldSize * (i + 1))\n",
    "        ithFoldTrainData = np.concatenate([shuffledData[:start], shuffledData[end:]])\n",
    "        ithFoldTrainLabels = np.concatenate([shuffledLabels[:start], shuffledLabels[end:]])\n",
    "        ithFoldValData = shuffledData[start:end]\n",
    "        ithFoldValLabels = shuffledLabels[start:end]\n",
    "        \n",
    "        svc.fit(X=ithFoldTrainData, y=ithFoldTrainLabels.ravel())\n",
    "\n",
    "        trainingAccuracy += accuracy_score(ithFoldTrainLabels, svc.predict(ithFoldTrainData)) / k\n",
    "        validationAccuracy += accuracy_score(ithFoldValLabels, svc.predict(ithFoldValData)) / k\n",
    "    return [trainingAccuracy, validationAccuracy]"
   ]
  },
  {
   "cell_type": "code",
   "execution_count": 12,
   "id": "eaa36e46",
   "metadata": {},
   "outputs": [
    {
     "name": "stdout",
     "output_type": "stream",
     "text": [
      "C Value: 0.01 with training accuracy 0.7458910633658483 and validation accuracy 0.7451611396107234.\n",
      "C Value: 0.05 with training accuracy 0.767111344615129 and validation accuracy 0.7664334370532336.\n",
      "C Value: 0.1 with training accuracy 0.7756667394516916 and validation accuracy 0.7728132387706854.\n",
      "C Value: 0.2 with training accuracy 0.7852380286450547 and validation accuracy 0.7820947682187276.\n",
      "C Value: 0.5 with training accuracy 0.7949052351826686 and validation accuracy 0.7936971939562134.\n",
      "C Value: 0.8 with training accuracy 0.7974190406793518 and validation accuracy 0.7962111400779301.\n",
      "C Value: 1.0 with training accuracy 0.7994970823486034 and validation accuracy 0.7954331473850438.\n"
     ]
    },
    {
     "name": "stderr",
     "output_type": "stream",
     "text": [
      "/Users/DavidChen/Desktop/compsci/anaconda3/envs/CS189/lib/python3.6/site-packages/sklearn/svm/_base.py:986: ConvergenceWarning: Liblinear failed to converge, increase the number of iterations.\n",
      "  \"the number of iterations.\", ConvergenceWarning)\n",
      "/Users/DavidChen/Desktop/compsci/anaconda3/envs/CS189/lib/python3.6/site-packages/sklearn/svm/_base.py:986: ConvergenceWarning: Liblinear failed to converge, increase the number of iterations.\n",
      "  \"the number of iterations.\", ConvergenceWarning)\n",
      "/Users/DavidChen/Desktop/compsci/anaconda3/envs/CS189/lib/python3.6/site-packages/sklearn/svm/_base.py:986: ConvergenceWarning: Liblinear failed to converge, increase the number of iterations.\n",
      "  \"the number of iterations.\", ConvergenceWarning)\n"
     ]
    },
    {
     "name": "stdout",
     "output_type": "stream",
     "text": [
      "C Value: 2.0 with training accuracy 0.8014790547947397 and validation accuracy 0.7993019931040282.\n"
     ]
    },
    {
     "name": "stderr",
     "output_type": "stream",
     "text": [
      "/Users/DavidChen/Desktop/compsci/anaconda3/envs/CS189/lib/python3.6/site-packages/sklearn/svm/_base.py:986: ConvergenceWarning: Liblinear failed to converge, increase the number of iterations.\n",
      "  \"the number of iterations.\", ConvergenceWarning)\n",
      "/Users/DavidChen/Desktop/compsci/anaconda3/envs/CS189/lib/python3.6/site-packages/sklearn/svm/_base.py:986: ConvergenceWarning: Liblinear failed to converge, increase the number of iterations.\n",
      "  \"the number of iterations.\", ConvergenceWarning)\n",
      "/Users/DavidChen/Desktop/compsci/anaconda3/envs/CS189/lib/python3.6/site-packages/sklearn/svm/_base.py:986: ConvergenceWarning: Liblinear failed to converge, increase the number of iterations.\n",
      "  \"the number of iterations.\", ConvergenceWarning)\n",
      "/Users/DavidChen/Desktop/compsci/anaconda3/envs/CS189/lib/python3.6/site-packages/sklearn/svm/_base.py:986: ConvergenceWarning: Liblinear failed to converge, increase the number of iterations.\n",
      "  \"the number of iterations.\", ConvergenceWarning)\n"
     ]
    },
    {
     "name": "stdout",
     "output_type": "stream",
     "text": [
      "C Value: 5.0 with training accuracy 0.8037995418632475 and validation accuracy 0.8022082060194919.\n"
     ]
    },
    {
     "name": "stderr",
     "output_type": "stream",
     "text": [
      "/Users/DavidChen/Desktop/compsci/anaconda3/envs/CS189/lib/python3.6/site-packages/sklearn/svm/_base.py:986: ConvergenceWarning: Liblinear failed to converge, increase the number of iterations.\n",
      "  \"the number of iterations.\", ConvergenceWarning)\n",
      "/Users/DavidChen/Desktop/compsci/anaconda3/envs/CS189/lib/python3.6/site-packages/sklearn/svm/_base.py:986: ConvergenceWarning: Liblinear failed to converge, increase the number of iterations.\n",
      "  \"the number of iterations.\", ConvergenceWarning)\n",
      "/Users/DavidChen/Desktop/compsci/anaconda3/envs/CS189/lib/python3.6/site-packages/sklearn/svm/_base.py:986: ConvergenceWarning: Liblinear failed to converge, increase the number of iterations.\n",
      "  \"the number of iterations.\", ConvergenceWarning)\n"
     ]
    },
    {
     "name": "stdout",
     "output_type": "stream",
     "text": [
      "C Value: 10.0 with training accuracy 0.8050077031791634 and validation accuracy 0.8014275969687625.\n",
      "The best value for C is 10.0 with an average accuracy of 0.803217650073963.\n"
     ]
    },
    {
     "name": "stderr",
     "output_type": "stream",
     "text": [
      "/Users/DavidChen/Desktop/compsci/anaconda3/envs/CS189/lib/python3.6/site-packages/sklearn/svm/_base.py:986: ConvergenceWarning: Liblinear failed to converge, increase the number of iterations.\n",
      "  \"the number of iterations.\", ConvergenceWarning)\n"
     ]
    }
   ],
   "source": [
    "k = 5\n",
    "spamDataset = io.loadmat(\"data/spam_data.mat\")\n",
    "spamDataset[\"training_data\"] = normalize(spamDataset[\"training_data\"])\n",
    "CValueResults = []\n",
    "for CValue in CValues:\n",
    "    accuracies = KFoldCrossVal(spamDataset, k, CValue)\n",
    "    CValueResults.append(0.5 * (accuracies[0] + accuracies[1]))\n",
    "    print(\"C Value: {} with training accuracy {} and validation accuracy {}.\".format(CValue, accuracies[0], accuracies[1]))\n",
    "maxAverageAccuracy = max(CValueResults)\n",
    "print(\"The best value for C is {} with an average accuracy of {}.\"\\\n",
    "      .format(CValues[CValueResults.index(maxAverageAccuracy)], maxAverageAccuracy))"
   ]
  },
  {
   "cell_type": "markdown",
   "id": "2703bf2d",
   "metadata": {},
   "source": [
    "## Question 5: Kaggle"
   ]
  },
  {
   "cell_type": "code",
   "execution_count": 13,
   "id": "923db881",
   "metadata": {},
   "outputs": [],
   "source": [
    "# Setup\n",
    "import pandas as pd\n",
    "\n",
    "def results_to_csv(y_test, path):\n",
    "    y_test = y_test.astype(int)\n",
    "    df = pd.DataFrame({'Category': y_test})\n",
    "    df.index += 1  # Ensures that the index starts at 1. \n",
    "    df.to_csv(path, index_label='Id')"
   ]
  },
  {
   "cell_type": "markdown",
   "id": "7a2f9549",
   "metadata": {},
   "source": [
    "MNIST Dataset Notes:\n",
    "For LinearSVC with C=1.0 and max_iter=2000, accuracy was 80.3%\n",
    "For kernel='poly' with degree=2.0, coef0=0, C=1.0, max_iter=2000, accuracy was 98.04%"
   ]
  },
  {
   "cell_type": "code",
   "execution_count": 18,
   "id": "3286fa25",
   "metadata": {
    "scrolled": true
   },
   "outputs": [
    {
     "name": "stderr",
     "output_type": "stream",
     "text": [
      "/Users/DavidChen/Desktop/compsci/anaconda3/envs/CS189/lib/python3.6/site-packages/sklearn/svm/_base.py:258: ConvergenceWarning: Solver terminated early (max_iter=2000).  Consider pre-processing your data with StandardScaler or MinMaxScaler.\n",
      "  % self.max_iter, ConvergenceWarning)\n"
     ]
    },
    {
     "name": "stdout",
     "output_type": "stream",
     "text": [
      "0.9889833333333333\n",
      "done\n"
     ]
    }
   ],
   "source": [
    "# MNIST Predictions\n",
    "MNISTDataset = io.loadmat(\"data/mnist_data.mat\")\n",
    "\n",
    "# Normalization for convergence\n",
    "MNISTDataset[\"training_data\"] = normalize(MNISTDataset[\"training_data\"])\n",
    "MNISTDataset[\"test_data\"] = normalize(MNISTDataset[\"test_data\"])\n",
    "\n",
    "svc = svm.SVC(kernel='poly', degree=2.0, coef0=0, C=1.0, max_iter=2000)\n",
    "svc.fit(X=MNISTDataset[\"training_data\"], y=MNISTDataset[\"training_labels\"].ravel())\n",
    "print(accuracy_score(MNISTDataset[\"training_labels\"], svc.predict(MNISTDataset[\"training_data\"])))\n",
    "\n",
    "path = \"MNISTPredictions.csv\"\n",
    "MNISTPredictions = svc.predict(MNISTDataset[\"test_data\"])\n",
    "results_to_csv(MNISTPredictions, path)\n",
    "print(\"done\")"
   ]
  },
  {
   "cell_type": "markdown",
   "id": "795f1a3b",
   "metadata": {},
   "source": [
    "Spam Dataset Notes:\n",
    "For LinearSVC with C=1.0 and max_iter=2000, accuracy was 82.12%\n",
    "For kernel='poly' with degree=2.0, coef0=0, C=1.0, max_iter=2000, accuracy was 77.57%\n",
    "For kernel='rbf' with gamma=1.0, C=1.0, max_iter=2000, accuracy was 75.12%\n",
    "Couldn't find many useful features to add"
   ]
  },
  {
   "cell_type": "code",
   "execution_count": 23,
   "id": "72f0efe7",
   "metadata": {},
   "outputs": [
    {
     "name": "stdout",
     "output_type": "stream",
     "text": [
      "done\n"
     ]
    },
    {
     "name": "stderr",
     "output_type": "stream",
     "text": [
      "/Users/DavidChen/Desktop/compsci/anaconda3/envs/CS189/lib/python3.6/site-packages/sklearn/svm/_base.py:986: ConvergenceWarning: Liblinear failed to converge, increase the number of iterations.\n",
      "  \"the number of iterations.\", ConvergenceWarning)\n"
     ]
    }
   ],
   "source": [
    "# Spam Predictions\n",
    "spamDataset = io.loadmat(\"data/spam_data.mat\")\n",
    "\n",
    "# Normalization for convergence\n",
    "spamDataset[\"training_data\"] = normalize(spamDataset[\"training_data\"])\n",
    "spamDataset[\"test_data\"] = normalize(spamDataset[\"test_data\"])\n",
    "\n",
    "svc = svm.LinearSVC(C=1.0, max_iter=2000)\n",
    "svc.fit(X=spamDataset[\"training_data\"], y=spamDataset[\"training_labels\"].ravel())\n",
    "\n",
    "path = \"SpamPredictions.csv\"\n",
    "spamPredictions = svc.predict(spamDataset[\"test_data\"])\n",
    "results_to_csv(spamPredictions, path)\n",
    "print(\"done\")"
   ]
  },
  {
   "cell_type": "code",
   "execution_count": 20,
   "id": "321ef345",
   "metadata": {},
   "outputs": [
    {
     "name": "stdout",
     "output_type": "stream",
     "text": [
      "loaded\n",
      "normalized\n",
      "trained\n",
      "done\n"
     ]
    }
   ],
   "source": [
    "# CIFAR10 Predictions\n",
    "CIFAR10Dataset = io.loadmat(\"data/cifar10_data.mat\")\n",
    "print(\"loaded\")\n",
    "\n",
    "# Normalization for convergence\n",
    "CIFAR10Dataset[\"training_data\"] = normalize(CIFAR10Dataset[\"training_data\"])\n",
    "CIFAR10Dataset[\"test_data\"] = normalize(CIFAR10Dataset[\"test_data\"])\n",
    "print(\"normalized\")\n",
    "\n",
    "svc = svm.LinearSVC(C=1.0, max_iter=2000)\n",
    "svc.fit(X=CIFAR10Dataset[\"training_data\"], y=CIFAR10Dataset[\"training_labels\"].ravel())\n",
    "print(\"trained\")\n",
    "\n",
    "path = \"CIFAR10Predictions.csv\"\n",
    "CIFAR10Predictions = svc.predict(CIFAR10Dataset[\"test_data\"])\n",
    "results_to_csv(CIFAR10Predictions, path)\n",
    "print(\"done\")"
   ]
  },
  {
   "cell_type": "markdown",
   "id": "e11d4fb6",
   "metadata": {},
   "source": [
    "## Question 6: Theory of Hard-Margin Support Vector Machines"
   ]
  },
  {
   "cell_type": "markdown",
   "id": "842c0fd5",
   "metadata": {},
   "source": [
    "In attached PDF."
   ]
  }
 ],
 "metadata": {
  "kernelspec": {
   "display_name": "Python 3",
   "language": "python",
   "name": "python3"
  },
  "language_info": {
   "codemirror_mode": {
    "name": "ipython",
    "version": 3
   },
   "file_extension": ".py",
   "mimetype": "text/x-python",
   "name": "python",
   "nbconvert_exporter": "python",
   "pygments_lexer": "ipython3",
   "version": "3.6.13"
  }
 },
 "nbformat": 4,
 "nbformat_minor": 5
}
